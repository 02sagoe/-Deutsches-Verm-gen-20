{
 "cells": [
  {
   "cell_type": "code",
   "execution_count": 1,
   "id": "3210329d",
   "metadata": {
    "_cell_guid": "b1076dfc-b9ad-4769-8c92-a6c4dae69d19",
    "_uuid": "8f2839f25d086af736a60e9eeb907d3b93b6e0e5",
    "execution": {
     "iopub.execute_input": "2024-11-22T14:58:25.061626Z",
     "iopub.status.busy": "2024-11-22T14:58:25.061241Z",
     "iopub.status.idle": "2024-11-22T14:58:25.972252Z",
     "shell.execute_reply": "2024-11-22T14:58:25.971192Z"
    },
    "papermill": {
     "duration": 0.917793,
     "end_time": "2024-11-22T14:58:25.974624",
     "exception": false,
     "start_time": "2024-11-22T14:58:25.056831",
     "status": "completed"
    },
    "tags": []
   },
   "outputs": [
    {
     "name": "stdout",
     "output_type": "stream",
     "text": [
      "/kaggle/input/top-12-german-companies/Top_12_German_Companies NEW.csv\n"
     ]
    }
   ],
   "source": [
    "# This Python 3 environment comes with many helpful analytics libraries installed\n",
    "# It is defined by the kaggle/python Docker image: https://github.com/kaggle/docker-python\n",
    "# For example, here's several helpful packages to load\n",
    "\n",
    "import numpy as np # linear algebra\n",
    "import pandas as pd # data processing, CSV file I/O (e.g. pd.read_csv)\n",
    "\n",
    "# Input data files are available in the read-only \"../input/\" directory\n",
    "# For example, running this (by clicking run or pressing Shift+Enter) will list all files under the input directory\n",
    "\n",
    "import os\n",
    "for dirname, _, filenames in os.walk('/kaggle/input'):\n",
    "    for filename in filenames:\n",
    "        print(os.path.join(dirname, filename))\n",
    "\n",
    "# You can write up to 20GB to the current directory (/kaggle/working/) that gets preserved as output when you create a version using \"Save & Run All\" \n",
    "# You can also write temporary files to /kaggle/temp/, but they won't be saved outside of the current session"
   ]
  },
  {
   "cell_type": "code",
   "execution_count": 2,
   "id": "9fc8f3d3",
   "metadata": {
    "execution": {
     "iopub.execute_input": "2024-11-22T14:58:25.982586Z",
     "iopub.status.busy": "2024-11-22T14:58:25.981437Z",
     "iopub.status.idle": "2024-11-22T14:58:27.698333Z",
     "shell.execute_reply": "2024-11-22T14:58:27.697298Z"
    },
    "papermill": {
     "duration": 1.723551,
     "end_time": "2024-11-22T14:58:27.701323",
     "exception": false,
     "start_time": "2024-11-22T14:58:25.977772",
     "status": "completed"
    },
    "tags": []
   },
   "outputs": [],
   "source": [
    "import pandas as pd\n",
    "import numpy as np\n",
    "import matplotlib.pyplot as plt\n",
    "import seaborn as sns"
   ]
  },
  {
   "cell_type": "code",
   "execution_count": 3,
   "id": "b2e16cfa",
   "metadata": {
    "execution": {
     "iopub.execute_input": "2024-11-22T14:58:27.711492Z",
     "iopub.status.busy": "2024-11-22T14:58:27.710971Z",
     "iopub.status.idle": "2024-11-22T14:58:27.733456Z",
     "shell.execute_reply": "2024-11-22T14:58:27.732272Z"
    },
    "papermill": {
     "duration": 0.030275,
     "end_time": "2024-11-22T14:58:27.736014",
     "exception": false,
     "start_time": "2024-11-22T14:58:27.705739",
     "status": "completed"
    },
    "tags": []
   },
   "outputs": [],
   "source": [
    "df = pd.read_csv('/kaggle/input/top-12-german-companies/Top_12_German_Companies NEW.csv')"
   ]
  },
  {
   "cell_type": "code",
   "execution_count": 4,
   "id": "f8a928d2",
   "metadata": {
    "execution": {
     "iopub.execute_input": "2024-11-22T14:58:27.743019Z",
     "iopub.status.busy": "2024-11-22T14:58:27.742552Z",
     "iopub.status.idle": "2024-11-22T14:58:27.779497Z",
     "shell.execute_reply": "2024-11-22T14:58:27.778214Z"
    },
    "papermill": {
     "duration": 0.042977,
     "end_time": "2024-11-22T14:58:27.781749",
     "exception": false,
     "start_time": "2024-11-22T14:58:27.738772",
     "status": "completed"
    },
    "tags": []
   },
   "outputs": [
    {
     "name": "stdout",
     "output_type": "stream",
     "text": [
      "<class 'pandas.core.frame.DataFrame'>\n",
      "RangeIndex: 384 entries, 0 to 383\n",
      "Data columns (total 11 columns):\n",
      " #   Column                      Non-Null Count  Dtype  \n",
      "---  ------                      --------------  -----  \n",
      " 0   Company                     384 non-null    object \n",
      " 1   Period                      384 non-null    object \n",
      " 2   Revenue                     384 non-null    int64  \n",
      " 3   Net Income                  384 non-null    float64\n",
      " 4   Liabilities                 384 non-null    int64  \n",
      " 5   Assets                      384 non-null    int64  \n",
      " 6   Equity                      384 non-null    int64  \n",
      " 7   ROA (%)                     384 non-null    object \n",
      " 8   ROE (%)                     384 non-null    object \n",
      " 9   Debt to Equity              384 non-null    object \n",
      " 10  percentage  Debt to Equity  384 non-null    object \n",
      "dtypes: float64(1), int64(4), object(6)\n",
      "memory usage: 33.1+ KB\n"
     ]
    }
   ],
   "source": [
    "df.info()"
   ]
  },
  {
   "cell_type": "code",
   "execution_count": 5,
   "id": "e25d2768",
   "metadata": {
    "execution": {
     "iopub.execute_input": "2024-11-22T14:58:27.788773Z",
     "iopub.status.busy": "2024-11-22T14:58:27.787932Z",
     "iopub.status.idle": "2024-11-22T14:58:27.813163Z",
     "shell.execute_reply": "2024-11-22T14:58:27.812039Z"
    },
    "papermill": {
     "duration": 0.031186,
     "end_time": "2024-11-22T14:58:27.815619",
     "exception": false,
     "start_time": "2024-11-22T14:58:27.784433",
     "status": "completed"
    },
    "tags": []
   },
   "outputs": [
    {
     "data": {
      "text/html": [
       "<div>\n",
       "<style scoped>\n",
       "    .dataframe tbody tr th:only-of-type {\n",
       "        vertical-align: middle;\n",
       "    }\n",
       "\n",
       "    .dataframe tbody tr th {\n",
       "        vertical-align: top;\n",
       "    }\n",
       "\n",
       "    .dataframe thead th {\n",
       "        text-align: right;\n",
       "    }\n",
       "</style>\n",
       "<table border=\"1\" class=\"dataframe\">\n",
       "  <thead>\n",
       "    <tr style=\"text-align: right;\">\n",
       "      <th></th>\n",
       "      <th>Company</th>\n",
       "      <th>Period</th>\n",
       "      <th>Revenue</th>\n",
       "      <th>Net Income</th>\n",
       "      <th>Liabilities</th>\n",
       "      <th>Assets</th>\n",
       "      <th>Equity</th>\n",
       "      <th>ROA (%)</th>\n",
       "      <th>ROE (%)</th>\n",
       "      <th>Debt to Equity</th>\n",
       "      <th>percentage  Debt to Equity</th>\n",
       "    </tr>\n",
       "  </thead>\n",
       "  <tbody>\n",
       "    <tr>\n",
       "      <th>0</th>\n",
       "      <td>Volkswagen AG</td>\n",
       "      <td>12/31/2017</td>\n",
       "      <td>9750496618</td>\n",
       "      <td>5.168898e+08</td>\n",
       "      <td>21354201295</td>\n",
       "      <td>54861302788</td>\n",
       "      <td>33507101493</td>\n",
       "      <td>942.175.618</td>\n",
       "      <td>1.542.627.668</td>\n",
       "      <td>637.303.746</td>\n",
       "      <td>0,00%</td>\n",
       "    </tr>\n",
       "    <tr>\n",
       "      <th>1</th>\n",
       "      <td>Siemens AG</td>\n",
       "      <td>12/31/2017</td>\n",
       "      <td>19716237464</td>\n",
       "      <td>1.276840e+09</td>\n",
       "      <td>45009303223</td>\n",
       "      <td>75268101508</td>\n",
       "      <td>30258798286</td>\n",
       "      <td>1.696.389.282</td>\n",
       "      <td>4.219.731.382</td>\n",
       "      <td>1.487.478.214</td>\n",
       "      <td>283,68%</td>\n",
       "    </tr>\n",
       "    <tr>\n",
       "      <th>2</th>\n",
       "      <td>Allianz SE</td>\n",
       "      <td>12/31/2017</td>\n",
       "      <td>19458831198</td>\n",
       "      <td>1.600107e+09</td>\n",
       "      <td>48538978480</td>\n",
       "      <td>69583711255</td>\n",
       "      <td>21044732775</td>\n",
       "      <td>2.299.542.624</td>\n",
       "      <td>7.603.361.452</td>\n",
       "      <td>2.306.466.848</td>\n",
       "      <td>329,65%</td>\n",
       "    </tr>\n",
       "    <tr>\n",
       "      <th>3</th>\n",
       "      <td>BMW AG</td>\n",
       "      <td>12/31/2017</td>\n",
       "      <td>18808147150</td>\n",
       "      <td>9.601843e+08</td>\n",
       "      <td>35382107627</td>\n",
       "      <td>67327482638</td>\n",
       "      <td>31945375011</td>\n",
       "      <td>142.614.028</td>\n",
       "      <td>3.005.706.927</td>\n",
       "      <td>1.107.581.539</td>\n",
       "      <td>0,00%</td>\n",
       "    </tr>\n",
       "    <tr>\n",
       "      <th>4</th>\n",
       "      <td>BASF SE</td>\n",
       "      <td>12/31/2017</td>\n",
       "      <td>16895580815</td>\n",
       "      <td>1.797082e+09</td>\n",
       "      <td>28309420014</td>\n",
       "      <td>68036567115</td>\n",
       "      <td>39727147101</td>\n",
       "      <td>2.641.347.127</td>\n",
       "      <td>4.523.561.449</td>\n",
       "      <td>71.259.635</td>\n",
       "      <td>634,80%</td>\n",
       "    </tr>\n",
       "  </tbody>\n",
       "</table>\n",
       "</div>"
      ],
      "text/plain": [
       "         Company      Period      Revenue    Net Income  Liabilities  \\\n",
       "0  Volkswagen AG  12/31/2017   9750496618  5.168898e+08  21354201295   \n",
       "1     Siemens AG  12/31/2017  19716237464  1.276840e+09  45009303223   \n",
       "2     Allianz SE  12/31/2017  19458831198  1.600107e+09  48538978480   \n",
       "3         BMW AG  12/31/2017  18808147150  9.601843e+08  35382107627   \n",
       "4        BASF SE  12/31/2017  16895580815  1.797082e+09  28309420014   \n",
       "\n",
       "        Assets       Equity        ROA (%)        ROE (%) Debt to Equity  \\\n",
       "0  54861302788  33507101493    942.175.618  1.542.627.668    637.303.746   \n",
       "1  75268101508  30258798286  1.696.389.282  4.219.731.382  1.487.478.214   \n",
       "2  69583711255  21044732775  2.299.542.624  7.603.361.452  2.306.466.848   \n",
       "3  67327482638  31945375011    142.614.028  3.005.706.927  1.107.581.539   \n",
       "4  68036567115  39727147101  2.641.347.127  4.523.561.449     71.259.635   \n",
       "\n",
       "  percentage  Debt to Equity  \n",
       "0                      0,00%  \n",
       "1                    283,68%  \n",
       "2                    329,65%  \n",
       "3                      0,00%  \n",
       "4                    634,80%  "
      ]
     },
     "execution_count": 5,
     "metadata": {},
     "output_type": "execute_result"
    }
   ],
   "source": [
    "df.head()"
   ]
  },
  {
   "cell_type": "code",
   "execution_count": 6,
   "id": "5c7581f3",
   "metadata": {
    "execution": {
     "iopub.execute_input": "2024-11-22T14:58:27.823501Z",
     "iopub.status.busy": "2024-11-22T14:58:27.822494Z",
     "iopub.status.idle": "2024-11-22T14:58:27.830640Z",
     "shell.execute_reply": "2024-11-22T14:58:27.829699Z"
    },
    "papermill": {
     "duration": 0.014046,
     "end_time": "2024-11-22T14:58:27.832589",
     "exception": false,
     "start_time": "2024-11-22T14:58:27.818543",
     "status": "completed"
    },
    "tags": []
   },
   "outputs": [
    {
     "data": {
      "text/plain": [
       "array(['12/31/2017', '12/31/2018', '12/31/2019', '12/31/2020',\n",
       "       '12/31/2021', '12/31/2022', '12/31/2023', '12/31/2024',\n",
       "       '3/31/2017', '3/31/2018', '3/31/2019', '3/31/2020', '3/31/2021',\n",
       "       '3/31/2022', '3/31/2023', '3/31/2024', '6/30/2017', '6/30/2018',\n",
       "       '6/30/2019', '6/30/2020', '6/30/2021', '6/30/2022', '6/30/2023',\n",
       "       '6/30/2024', '9/30/2017', '9/30/2018', '9/30/2019', '9/30/2020',\n",
       "       '9/30/2021', '9/30/2022', '9/30/2023', '9/30/2024'], dtype=object)"
      ]
     },
     "execution_count": 6,
     "metadata": {},
     "output_type": "execute_result"
    }
   ],
   "source": [
    "df['Period'].unique()"
   ]
  },
  {
   "cell_type": "code",
   "execution_count": 7,
   "id": "debe0da5",
   "metadata": {
    "execution": {
     "iopub.execute_input": "2024-11-22T14:58:27.840233Z",
     "iopub.status.busy": "2024-11-22T14:58:27.839769Z",
     "iopub.status.idle": "2024-11-22T14:58:27.847106Z",
     "shell.execute_reply": "2024-11-22T14:58:27.846144Z"
    },
    "papermill": {
     "duration": 0.013474,
     "end_time": "2024-11-22T14:58:27.849082",
     "exception": false,
     "start_time": "2024-11-22T14:58:27.835608",
     "status": "completed"
    },
    "tags": []
   },
   "outputs": [
    {
     "data": {
      "text/plain": [
       "516889818.4"
      ]
     },
     "execution_count": 7,
     "metadata": {},
     "output_type": "execute_result"
    }
   ],
   "source": [
    "df['Net Income'][0]"
   ]
  },
  {
   "cell_type": "code",
   "execution_count": null,
   "id": "cd3ce034",
   "metadata": {
    "papermill": {
     "duration": 0.00275,
     "end_time": "2024-11-22T14:58:27.855137",
     "exception": false,
     "start_time": "2024-11-22T14:58:27.852387",
     "status": "completed"
    },
    "tags": []
   },
   "outputs": [],
   "source": []
  }
 ],
 "metadata": {
  "kaggle": {
   "accelerator": "none",
   "dataSources": [
    {
     "datasetId": 6101780,
     "sourceId": 9927176,
     "sourceType": "datasetVersion"
    }
   ],
   "dockerImageVersionId": 30786,
   "isGpuEnabled": false,
   "isInternetEnabled": false,
   "language": "python",
   "sourceType": "notebook"
  },
  "kernelspec": {
   "display_name": "Python 3",
   "language": "python",
   "name": "python3"
  },
  "language_info": {
   "codemirror_mode": {
    "name": "ipython",
    "version": 3
   },
   "file_extension": ".py",
   "mimetype": "text/x-python",
   "name": "python",
   "nbconvert_exporter": "python",
   "pygments_lexer": "ipython3",
   "version": "3.10.14"
  },
  "papermill": {
   "default_parameters": {},
   "duration": 5.960832,
   "end_time": "2024-11-22T14:58:28.378280",
   "environment_variables": {},
   "exception": null,
   "input_path": "__notebook__.ipynb",
   "output_path": "__notebook__.ipynb",
   "parameters": {},
   "start_time": "2024-11-22T14:58:22.417448",
   "version": "2.6.0"
  }
 },
 "nbformat": 4,
 "nbformat_minor": 5
}
